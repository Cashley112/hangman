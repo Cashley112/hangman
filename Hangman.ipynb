{
 "cells": [
  {
   "cell_type": "code",
   "execution_count": 4,
   "metadata": {},
   "outputs": [],
   "source": [
    "def hangman(word):\n",
    "    wrong_guesses = 0\n",
    "    stages = [\"\", \"________      \", \"|      |      \", \"|      0      \", \"|     /|\\     \", \"|     / \\     \", \"|\"]\n",
    "    letters_left = list(word)\n",
    "    score_board = [\"_\"] * len(word)\n",
    "    win = False\n",
    "    print (\"Welcome to Hang Man\")\n",
    "    while wrong_guesses < len(stages) -1:\n",
    "        print(\"\\n\")\n",
    "        guess = input(\"Guess a letter\")\n",
    "        if guess in letters_left:\n",
    "            character_index = letters_left.index(guess)\n",
    "            score_board[character_index] = guess\n",
    "            letters_left[character_index] = \"$\"\n",
    "        else:\n",
    "            wrong_guesses += 1\n",
    "            print((' '.join(score_board)))\n",
    "            print('\\n'.join(stages[0: wrong_guesses + 1]))\n",
    "            if '_' not in score_board:\n",
    "                print('You win! The word was:')\n",
    "                print(' '.join(score_board))\n",
    "                win = True\n",
    "                break\n",
    "            if not win:\n",
    "                print('\\n'.join(stages[0: wrong_guesses]))\n",
    "                print('You lose! the word was {}'.format(word))\n",
    "                \n"
   ]
  },
  {
   "cell_type": "code",
   "execution_count": 5,
   "metadata": {},
   "outputs": [
    {
     "name": "stdout",
     "output_type": "stream",
     "text": [
      "Welcome to Hang Man\n",
      "\n",
      "\n",
      "Guess a letterl\n",
      "_ _ _\n",
      "\n",
      "________      \n",
      "\n",
      "You lose! the word was cat\n",
      "\n",
      "\n",
      "Guess a lettero\n",
      "_ _ _\n",
      "\n",
      "________      \n",
      "|      |      \n",
      "\n",
      "________      \n",
      "You lose! the word was cat\n",
      "\n",
      "\n",
      "Guess a letterp\n",
      "_ _ _\n",
      "\n",
      "________      \n",
      "|      |      \n",
      "|      0      \n",
      "\n",
      "________      \n",
      "|      |      \n",
      "You lose! the word was cat\n",
      "\n",
      "\n",
      "Guess a letterq\n",
      "_ _ _\n",
      "\n",
      "________      \n",
      "|      |      \n",
      "|      0      \n",
      "|     /|\\     \n",
      "\n",
      "________      \n",
      "|      |      \n",
      "|      0      \n",
      "You lose! the word was cat\n",
      "\n",
      "\n",
      "Guess a lettere\n",
      "_ _ _\n",
      "\n",
      "________      \n",
      "|      |      \n",
      "|      0      \n",
      "|     /|\\     \n",
      "|     / \\     \n",
      "\n",
      "________      \n",
      "|      |      \n",
      "|      0      \n",
      "|     /|\\     \n",
      "You lose! the word was cat\n",
      "\n",
      "\n",
      "Guess a letters\n",
      "_ _ _\n",
      "\n",
      "________      \n",
      "|      |      \n",
      "|      0      \n",
      "|     /|\\     \n",
      "|     / \\     \n",
      "|\n",
      "\n",
      "________      \n",
      "|      |      \n",
      "|      0      \n",
      "|     /|\\     \n",
      "|     / \\     \n",
      "You lose! the word was cat\n"
     ]
    }
   ],
   "source": [
    "hangman(\"cat\")"
   ]
  },
  {
   "cell_type": "code",
   "execution_count": 6,
   "metadata": {},
   "outputs": [
    {
     "ename": "NameError",
     "evalue": "name 't' is not defined",
     "output_type": "error",
     "traceback": [
      "\u001b[0;31m---------------------------------------------------------------------------\u001b[0m",
      "\u001b[0;31mNameError\u001b[0m                                 Traceback (most recent call last)",
      "\u001b[0;32m<ipython-input-6-34fc7a11cb38>\u001b[0m in \u001b[0;36m<module>\u001b[0;34m\u001b[0m\n\u001b[0;32m----> 1\u001b[0;31m \u001b[0mt\u001b[0m\u001b[0;34m\u001b[0m\u001b[0;34m\u001b[0m\u001b[0m\n\u001b[0m",
      "\u001b[0;31mNameError\u001b[0m: name 't' is not defined"
     ]
    }
   ],
   "source": [
    "t"
   ]
  },
  {
   "cell_type": "code",
   "execution_count": 7,
   "metadata": {},
   "outputs": [
    {
     "name": "stdout",
     "output_type": "stream",
     "text": [
      "Welcome to Hang Man\n",
      "\n",
      "\n",
      "Guess a letterc\n",
      "\n",
      "\n",
      "Guess a lettera\n",
      "\n",
      "\n",
      "Guess a lettert\n",
      "\n",
      "\n",
      "Guess a letter\n",
      "c a t\n",
      "\n",
      "________      \n",
      "You win! The word was:\n",
      "c a t\n"
     ]
    }
   ],
   "source": [
    "hangman('cat')"
   ]
  },
  {
   "cell_type": "code",
   "execution_count": null,
   "metadata": {},
   "outputs": [],
   "source": []
  },
  {
   "cell_type": "code",
   "execution_count": null,
   "metadata": {},
   "outputs": [],
   "source": []
  }
 ],
 "metadata": {
  "kernelspec": {
   "display_name": "Python 3",
   "language": "python",
   "name": "python3"
  },
  "language_info": {
   "codemirror_mode": {
    "name": "ipython",
    "version": 3
   },
   "file_extension": ".py",
   "mimetype": "text/x-python",
   "name": "python",
   "nbconvert_exporter": "python",
   "pygments_lexer": "ipython3",
   "version": "3.7.6"
  }
 },
 "nbformat": 4,
 "nbformat_minor": 4
}
